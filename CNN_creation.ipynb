{
  "cells": [
    {
      "cell_type": "markdown",
      "metadata": {
        "id": "94ebmAvysVeA"
      },
      "source": [
        "# Importaciones"
      ]
    },
    {
      "cell_type": "code",
      "execution_count": null,
      "metadata": {
        "colab": {
          "base_uri": "https://localhost:8080/"
        },
        "id": "QPJiBA0FaWlB",
        "outputId": "702f5593-ca2c-4721-c913-f368a8880e8a"
      },
      "outputs": [
        {
          "name": "stdout",
          "output_type": "stream",
          "text": [
            "Drive already mounted at /content/drive; to attempt to forcibly remount, call drive.mount(\"/content/drive\", force_remount=True).\n"
          ]
        }
      ],
      "source": [
        "from google.colab import drive\n",
        "drive.mount('/content/drive')"
      ]
    },
    {
      "cell_type": "code",
      "execution_count": null,
      "metadata": {
        "colab": {
          "base_uri": "https://localhost:8080/"
        },
        "id": "l5VAN5twanxK",
        "outputId": "55ac5e45-12a5-49fc-8aa1-cf578b03d5e8"
      },
      "outputs": [
        {
          "name": "stdout",
          "output_type": "stream",
          "text": [
            "Requirement already satisfied: keras-tuner in /usr/local/lib/python3.11/dist-packages (1.4.7)\n",
            "Requirement already satisfied: keras in /usr/local/lib/python3.11/dist-packages (from keras-tuner) (3.8.0)\n",
            "Requirement already satisfied: packaging in /usr/local/lib/python3.11/dist-packages (from keras-tuner) (24.2)\n",
            "Requirement already satisfied: requests in /usr/local/lib/python3.11/dist-packages (from keras-tuner) (2.32.3)\n",
            "Requirement already satisfied: kt-legacy in /usr/local/lib/python3.11/dist-packages (from keras-tuner) (1.0.5)\n",
            "Requirement already satisfied: absl-py in /usr/local/lib/python3.11/dist-packages (from keras->keras-tuner) (1.4.0)\n",
            "Requirement already satisfied: numpy in /usr/local/lib/python3.11/dist-packages (from keras->keras-tuner) (1.26.4)\n",
            "Requirement already satisfied: rich in /usr/local/lib/python3.11/dist-packages (from keras->keras-tuner) (13.9.4)\n",
            "Requirement already satisfied: namex in /usr/local/lib/python3.11/dist-packages (from keras->keras-tuner) (0.0.8)\n",
            "Requirement already satisfied: h5py in /usr/local/lib/python3.11/dist-packages (from keras->keras-tuner) (3.12.1)\n",
            "Requirement already satisfied: optree in /usr/local/lib/python3.11/dist-packages (from keras->keras-tuner) (0.14.0)\n",
            "Requirement already satisfied: ml-dtypes in /usr/local/lib/python3.11/dist-packages (from keras->keras-tuner) (0.4.1)\n",
            "Requirement already satisfied: charset-normalizer<4,>=2 in /usr/local/lib/python3.11/dist-packages (from requests->keras-tuner) (3.4.1)\n",
            "Requirement already satisfied: idna<4,>=2.5 in /usr/local/lib/python3.11/dist-packages (from requests->keras-tuner) (3.10)\n",
            "Requirement already satisfied: urllib3<3,>=1.21.1 in /usr/local/lib/python3.11/dist-packages (from requests->keras-tuner) (2.3.0)\n",
            "Requirement already satisfied: certifi>=2017.4.17 in /usr/local/lib/python3.11/dist-packages (from requests->keras-tuner) (2025.1.31)\n",
            "Requirement already satisfied: typing-extensions>=4.5.0 in /usr/local/lib/python3.11/dist-packages (from optree->keras->keras-tuner) (4.12.2)\n",
            "Requirement already satisfied: markdown-it-py>=2.2.0 in /usr/local/lib/python3.11/dist-packages (from rich->keras->keras-tuner) (3.0.0)\n",
            "Requirement already satisfied: pygments<3.0.0,>=2.13.0 in /usr/local/lib/python3.11/dist-packages (from rich->keras->keras-tuner) (2.18.0)\n",
            "Requirement already satisfied: mdurl~=0.1 in /usr/local/lib/python3.11/dist-packages (from markdown-it-py>=2.2.0->rich->keras->keras-tuner) (0.1.2)\n"
          ]
        }
      ],
      "source": [
        "!pip install keras-tuner"
      ]
    },
    {
      "cell_type": "code",
      "execution_count": null,
      "metadata": {
        "colab": {
          "base_uri": "https://localhost:8080/"
        },
        "id": "Jc3EsCw8YUVZ",
        "outputId": "62fbb4bf-e399-42a1-db55-a5bfaeebc92b"
      },
      "outputs": [
        {
          "name": "stderr",
          "output_type": "stream",
          "text": [
            "<ipython-input-3-8d2f0729e833>:7: DeprecationWarning: `import kerastuner` is deprecated, please use `import keras_tuner`.\n",
            "  from kerastuner.tuners import RandomSearch\n"
          ]
        }
      ],
      "source": [
        "import tensorflow as tf\n",
        "from tensorflow.keras.preprocessing.image import ImageDataGenerator\n",
        "from tensorflow.keras.models import Sequential, load_model\n",
        "from tensorflow.keras.layers import Conv2D, MaxPooling2D, Dropout, Flatten, Dense\n",
        "from tensorflow.keras.optimizers import Adam\n",
        "from tensorflow.keras.callbacks import EarlyStopping\n",
        "from kerastuner.tuners import RandomSearch\n",
        "import pandas as pd\n",
        "import numpy as np\n",
        "import os"
      ]
    },
    {
      "cell_type": "markdown",
      "metadata": {
        "id": "4IbHdRdMYWk9"
      },
      "source": [
        "# Definición del modelo"
      ]
    },
    {
      "cell_type": "code",
      "execution_count": null,
      "metadata": {
        "id": "hGiz9xa6YYth"
      },
      "outputs": [],
      "source": [
        "# Definir el modelo de la CNN\n",
        "def build_cnn(hp):\n",
        "    model = Sequential([\n",
        "        Conv2D(hp.Int('filters_1', 32, 64, step=16), (3,3), activation='relu', input_shape=(224, 224, 3)),\n",
        "        MaxPooling2D(2,2),\n",
        "        Dropout(hp.Float('dropout_1', 0.2, 0.5, step=0.1)),\n",
        "\n",
        "        Conv2D(hp.Int('filters_2', 64, 128, step=16), (3,3), activation='relu'),\n",
        "        MaxPooling2D(2,2),\n",
        "        Dropout(hp.Float('dropout_2', 0.2, 0.5, step=0.1)),\n",
        "\n",
        "        Conv2D(hp.Int('filters_3', 128, 256, step=32), (3,3), activation='relu'),\n",
        "        MaxPooling2D(2,2),\n",
        "        Dropout(hp.Float('dropout_3', 0.3, 0.6, step=0.1)),\n",
        "\n",
        "        Flatten(),\n",
        "        Dense(hp.Int('dense_units', 64, 256, step=64), activation='relu'),\n",
        "        Dropout(hp.Float('dropout_dense', 0.3, 0.6, step=0.1)),\n",
        "        Dense(3, activation='softmax')\n",
        "    ])\n",
        "\n",
        "    optimizer = Adam(learning_rate=hp.Choice('learning_rate', [1e-4, 5e-4, 1e-3]))\n",
        "    model.compile(loss='categorical_crossentropy', optimizer=optimizer, metrics=['accuracy', 'precision', 'recall', 'AUC'])\n",
        "\n",
        "    return model"
      ]
    },
    {
      "cell_type": "markdown",
      "metadata": {
        "id": "-yj45LgkYb72"
      },
      "source": [
        "# Carga de datos"
      ]
    },
    {
      "cell_type": "code",
      "execution_count": null,
      "metadata": {
        "colab": {
          "base_uri": "https://localhost:8080/"
        },
        "id": "P0hR6cxfYFDH",
        "outputId": "13521742-1857-4bbe-e43e-3d3c468148b0"
      },
      "outputs": [],
      "source": [
        "# Definir generadores de datos\n",
        "train_datagen = ImageDataGenerator(rescale=1./255)\n",
        "test_datagen = ImageDataGenerator(rescale=1./255)\n",
        "\n",
        "# Directorios de imágenes\n",
        "train_dir = '/content/drive/MyDrive/covid-chest-xray'\n",
        "test_dir = '/content/drive/MyDrive/covid-chest-xray'\n",
        "\n",
        "# Obtener número de imágenes por clase en el conjunto de entrenamiento\n",
        "train_class_counts = {cls: len(os.listdir(os.path.join(train_dir, cls))) for cls in os.listdir(train_dir)}\n",
        "min_class_count = min(train_class_counts.values())  # Tomar la cantidad mínima para validación\n",
        "\n",
        "# Generadores de imágenes\n",
        "train_generator = train_datagen.flow_from_directory(\n",
        "    train_dir,\n",
        "    target_size=(224, 224),\n",
        "    batch_size=32,\n",
        "    class_mode='categorical')\n",
        "\n",
        "validation_generator = train_datagen.flow_from_directory(\n",
        "    train_dir,\n",
        "    target_size=(224, 224),\n",
        "    batch_size=32,\n",
        "    class_mode='categorical',\n",
        "    subset='training',\n",
        "    shuffle=True)\n",
        "\n",
        "# Generador de test con datos originales\n",
        "test_generator = test_datagen.flow_from_directory(\n",
        "    test_dir,\n",
        "    target_size=(224, 224),\n",
        "    batch_size=32,\n",
        "    class_mode='categorical',\n",
        "    shuffle=False)\n"
      ]
    },
    {
      "cell_type": "markdown",
      "metadata": {
        "id": "VY3NrE6fYpyA"
      },
      "source": [
        "# Entrenamiento del modelo"
      ]
    },
    {
      "cell_type": "code",
      "execution_count": null,
      "metadata": {
        "colab": {
          "base_uri": "https://localhost:8080/"
        },
        "id": "n0Y7rWqHYshj",
        "outputId": "65f7226a-cac3-482b-e96c-cd09ec8b6a9b"
      },
      "outputs": [],
      "source": [
        "# Configurar Random Search\n",
        "tuner = RandomSearch(\n",
        "    build_cnn,\n",
        "    objective='val_accuracy',\n",
        "    max_trials=50,\n",
        "    executions_per_trial=1,\n",
        "    directory='cnn_chest-xray_problem2',\n",
        "    project_name='cnn_chest-xray_problem2'\n",
        ")\n",
        "\n",
        "# Definir Early Stopping\n",
        "early_stopping = EarlyStopping(monitor='val_accuracy', patience=5, restore_best_weights=True)\n",
        "\n",
        "# Realizar la búsqueda de hiperparámetros\n",
        "tuner.search(train_generator,\n",
        "             validation_data=test_generator,\n",
        "             epochs=20,\n",
        "             callbacks=[early_stopping],\n",
        "             verbose=1)"
      ]
    },
    {
      "cell_type": "code",
      "execution_count": null,
      "metadata": {
        "id": "LkeW8031sA0w"
      },
      "outputs": [],
      "source": [
        "tuner.results_summary()"
      ]
    },
    {
      "cell_type": "code",
      "execution_count": null,
      "metadata": {
        "colab": {
          "base_uri": "https://localhost:8080/"
        },
        "id": "OaitSY2qdag7",
        "outputId": "de503464-d17f-42a8-9323-319d5595f412"
      },
      "outputs": [
        {
          "name": "stdout",
          "output_type": "stream",
          "text": [
            "Mejor modelo encontrado con filtros: 48, 96, 256, learning rate: 0.0001\n"
          ]
        },
        {
          "name": "stderr",
          "output_type": "stream",
          "text": [
            "/usr/local/lib/python3.11/dist-packages/keras/src/saving/saving_lib.py:757: UserWarning: Skipping variable loading for optimizer 'adam', because it has 2 variables whereas the saved optimizer has 22 variables. \n",
            "  saveable.load_own_variables(weights_store.get(inner_path))\n"
          ]
        }
      ],
      "source": [
        "# Obtener el mejor modelo\n",
        "best_hps = tuner.get_best_hyperparameters(num_trials=1)[0]\n",
        "best_model = tuner.get_best_models(num_models=1)[0]\n",
        "print(f\"Mejor modelo encontrado con filtros: {best_hps.get('filters_1')}, {best_hps.get('filters_2')}, {best_hps.get('filters_3')}, learning rate: {best_hps.get('learning_rate')}\")"
      ]
    },
    {
      "cell_type": "code",
      "execution_count": null,
      "metadata": {
        "id": "fQut8wEesIm7"
      },
      "outputs": [],
      "source": [
        "# Extraer el historial de entrenamiento del mejor modelo\n",
        "history = best_model.fit(train_generator, validation_data=test_generator, epochs=20)\n",
        "\n",
        "# Convertir en DataFrame para análisis posterior\n",
        "df_metrics = pd.DataFrame(history.history)\n",
        "\n",
        "# Guardar como CSV para análisis posterior\n",
        "df_metrics.to_csv(\"training_metrics.csv\", index=False)\n",
        "print(\"Métricas guardadas en 'training_metrics.csv'\")"
      ]
    },
    {
      "cell_type": "code",
      "execution_count": null,
      "metadata": {
        "colab": {
          "base_uri": "https://localhost:8080/"
        },
        "id": "hb5IIvzoY7oM",
        "outputId": "4c5927e5-2c9e-46de-aafb-955511945f5b"
      },
      "outputs": [
        {
          "name": "stderr",
          "output_type": "stream",
          "text": [
            "WARNING:absl:You are saving your model as an HDF5 file via `model.save()` or `keras.saving.save_model(model)`. This file format is considered legacy. We recommend using instead the native Keras format, e.g. `model.save('my_model.keras')` or `keras.saving.save_model(model, 'my_model.keras')`. \n"
          ]
        },
        {
          "name": "stdout",
          "output_type": "stream",
          "text": [
            "Mejor modelo guardado como 'best_cnn_model.h5'\n"
          ]
        }
      ],
      "source": [
        "# Guardar el mejor modelo\n",
        "best_model.save('best_cnn_model.h5')\n",
        "print(\"Mejor modelo guardado como 'best_cnn_model.h5'\")"
      ]
    }
  ],
  "metadata": {
    "accelerator": "GPU",
    "colab": {
      "gpuType": "T4",
      "provenance": []
    },
    "kernelspec": {
      "display_name": "Python 3",
      "name": "python3"
    },
    "language_info": {
      "name": "python"
    }
  },
  "nbformat": 4,
  "nbformat_minor": 0
}
